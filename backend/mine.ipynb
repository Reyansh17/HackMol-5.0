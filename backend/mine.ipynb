{
 "cells": [
  {
   "cell_type": "code",
   "execution_count": 113,
   "metadata": {},
   "outputs": [],
   "source": [
    "import numpy as np\n",
    "import pandas as pd\n",
    "import yfinance as yf\n",
    "from sklearn.linear_model import LinearRegression\n",
    "\n",
    "# # Function to fetch real-time stock data\n",
    "# def fetch_stock_data(symbol):\n",
    "#     stock_data = yf.download(symbol, start=\"2023-01-01\", end=\"2024-01-02\")\n",
    "#     return stock_data\n",
    "\n"
   ]
  },
  {
   "cell_type": "code",
   "execution_count": 114,
   "metadata": {},
   "outputs": [],
   "source": [
    "def fetch_stock_data(symbols):\n",
    "    try:\n",
    "        max_close_price = float('-inf')\n",
    "        max_close_symbol = None\n",
    "        \n",
    "        for symbol in symbols:\n",
    "            stock_data = yf.download(symbol, start=\"2018-01-01\", end=\"2024-02-22\")\n",
    "            \n",
    "            if stock_data.empty:\n",
    "                print(\"No data available for symbol:\", symbol)\n",
    "                continue\n",
    "            \n",
    "            max_close_price_symbol = stock_data['Close'].max()\n",
    "            \n",
    "            if max_close_price_symbol > max_close_price:\n",
    "                max_close_price = max_close_price_symbol\n",
    "                max_close_symbol = symbol\n",
    "                \n",
    "        if max_close_symbol is None:\n",
    "            print(\"No data available for any of the symbols\")\n",
    "            return None\n",
    "        \n",
    "        print(\"Symbol with maximum closing price:\", max_close_symbol)\n",
    "        print(\"Maximum closing price:\", max_close_price)\n",
    "        \n",
    "        return stock_data  # Return the fetched stock data DataFrame\n",
    "    except Exception as e:\n",
    "        print(\"Error fetching stock data:\", e)\n",
    "        return None\n"
   ]
  },
  {
   "cell_type": "code",
   "execution_count": 115,
   "metadata": {},
   "outputs": [],
   "source": [
    "# Function to preprocess data and extract features\n",
    "def preprocess_data(stock_data):\n",
    "    # Extract relevant features (e.g., 'Open', 'High', 'Low', 'Close')\n",
    "    features = stock_data[['Open', 'High', 'Low', 'Close']]\n",
    "    # Calculate additional features if needed\n",
    "    # Example: features['MovingAvg'] = features['Close'].rolling(window=10).mean()\n",
    "    return features"
   ]
  },
  {
   "cell_type": "code",
   "execution_count": 116,
   "metadata": {},
   "outputs": [],
   "source": [
    "def train_model(features, target):\n",
    "    model = LinearRegression()\n",
    "    model.fit(features, target)\n",
    "    print(\"Model trained successfully.\")\n",
    "    return model  # Make sure to return the trained model object\n"
   ]
  },
  {
   "cell_type": "code",
   "execution_count": 117,
   "metadata": {},
   "outputs": [],
   "source": [
    "def predict_price(model, features):\n",
    "    prediction = model.predict(features)\n",
    "    return prediction"
   ]
  },
  {
   "cell_type": "code",
   "execution_count": 118,
   "metadata": {},
   "outputs": [
    {
     "name": "stderr",
     "output_type": "stream",
     "text": [
      "[*********************100%%**********************]  1 of 1 completed\n",
      "[*********************100%%**********************]  1 of 1 completed\n",
      "[*********************100%%**********************]  1 of 1 completed\n",
      "[*********************100%%**********************]  1 of 1 completed"
     ]
    },
    {
     "name": "stdout",
     "output_type": "stream",
     "text": [
      "Symbol with maximum closing price: MSFT\n",
      "Maximum closing price: 420.54998779296875\n",
      "Model trained successfully.\n"
     ]
    },
    {
     "name": "stderr",
     "output_type": "stream",
     "text": [
      "\n",
      "C:\\Users\\tbhat\\AppData\\Roaming\\Python\\Python311\\site-packages\\sklearn\\base.py:465: UserWarning: X does not have valid feature names, but LinearRegression was fitted with feature names\n",
      "  warnings.warn(\n"
     ]
    }
   ],
   "source": [
    "def main():\n",
    "    symbols = ['AAPL', 'GOOGL', 'MSFT', 'AMZN']    \n",
    "    # Fetch real-time stock data\n",
    "    stock_data = fetch_stock_data(symbols)\n",
    "    \n",
    "    # Check if data retrieval was successful\n",
    "    if stock_data is None or stock_data.empty:\n",
    "        #print(\"Failed to fetch stock data or empty data returned. Exiting.\")\n",
    "        return\n",
    "    \n",
    "    #print(\"Fetched stock data:\")\n",
    "    #print(stock_data.head())  # Print the first few rows of fetched data\n",
    "    \n",
    "    # Preprocess data\n",
    "    features = preprocess_data(stock_data)\n",
    "    \n",
    "    # Check if features are empty after preprocessing\n",
    "    if features.empty:\n",
    "       # print(\"No features available for training. Exiting.\")\n",
    "        return\n",
    "    \n",
    "    #print(\"Preprocessed features:\")\n",
    "    #print(features.head())  # Print the preprocessed features\n",
    "    \n",
    "    # Extract target variable (e.g., 'Close' price)\n",
    "    target = features['Close']\n",
    "    \n",
    "    # Train model\n",
    "    model = train_model(features, target)\n",
    "    \n",
    "    # Make real-time prediction\n",
    "    latest_data = features.iloc[-1:].values.reshape(1, -1)  # Latest data point for prediction\n",
    "    predicted_price = predict_price(model, latest_data)\n",
    "    # print(\"Predicted stock price:\", predicted_price)\n",
    "\n",
    "if __name__ == \"__main__\":\n",
    "    main()\n"
   ]
  },
  {
   "cell_type": "code",
   "execution_count": null,
   "metadata": {},
   "outputs": [],
   "source": []
  }
 ],
 "metadata": {
  "kernelspec": {
   "display_name": "Python 3",
   "language": "python",
   "name": "python3"
  },
  "language_info": {
   "codemirror_mode": {
    "name": "ipython",
    "version": 3
   },
   "file_extension": ".py",
   "mimetype": "text/x-python",
   "name": "python",
   "nbconvert_exporter": "python",
   "pygments_lexer": "ipython3",
   "version": "3.11.2"
  }
 },
 "nbformat": 4,
 "nbformat_minor": 2
}
